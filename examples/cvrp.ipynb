{
 "cells": [
  {
   "cell_type": "code",
   "execution_count": 1,
   "metadata": {
    "collapsed": true
   },
   "outputs": [],
   "source": [
    "import copy\n",
    "\n",
    "import cvrplib\n",
    "import matplotlib\n",
    "import matplotlib.pyplot as plt\n",
    "import numpy as np\n",
    "import numpy.random as rnd\n",
    "\n",
    "from alns import ALNS, State\n",
    "from alns.accept import RecordToRecordTravel\n",
    "from alns.select import RouletteWheel\n",
    "from alns.stop import MaxRuntime"
   ]
  },
  {
   "cell_type": "code",
   "execution_count": 2,
   "outputs": [],
   "source": [
    "%matplotlib inline"
   ],
   "metadata": {
    "collapsed": false
   }
  },
  {
   "cell_type": "code",
   "execution_count": 3,
   "outputs": [],
   "source": [
    "SEED = 1234"
   ],
   "metadata": {
    "collapsed": false
   }
  },
  {
   "cell_type": "code",
   "execution_count": 4,
   "outputs": [
    {
     "name": "stdout",
     "output_type": "stream",
     "text": [
      "C101\n",
      "101\n",
      "200\n",
      "[0, 10, 30, 10, 10, 10, 20, 20, 20, 10, 10, 10, 20, 30, 10, 40, 40, 20, 20, 10, 10, 20, 20, 10, 10, 40, 10, 10, 20, 10, 10, 20, 30, 40, 20, 10, 10, 20, 30, 20, 10, 10, 20, 10, 10, 10, 30, 10, 10, 10, 10, 10, 10, 20, 40, 10, 30, 40, 30, 10, 20, 10, 20, 50, 10, 10, 10, 10, 10, 10, 30, 20, 10, 10, 50, 20, 10, 10, 20, 10, 10, 30, 20, 10, 20, 30, 10, 20, 30, 10, 10, 10, 20, 40, 10, 30, 10, 30, 20, 10, 20]\n",
      "[0, 90, 90, 90, 90, 90, 90, 90, 90, 90, 90, 90, 90, 90, 90, 90, 90, 90, 90, 90, 90, 90, 90, 90, 90, 90, 90, 90, 90, 90, 90, 90, 90, 90, 90, 90, 90, 90, 90, 90, 90, 90, 90, 90, 90, 90, 90, 90, 90, 90, 90, 90, 90, 90, 90, 90, 90, 90, 90, 90, 90, 90, 90, 90, 90, 90, 90, 90, 90, 90, 90, 90, 90, 90, 90, 90, 90, 90, 90, 90, 90, 90, 90, 90, 90, 90, 90, 90, 90, 90, 90, 90, 90, 90, 90, 90, 90, 90, 90, 90, 90]\n"
     ]
    }
   ],
   "source": [
    "# data, bks = cvrplib.read('data/ORTEC-n242-k12.vrp', 'data/ORTEC-n242-k12.sol')\n",
    "data = cvrplib.read('data/C101.txt')\n",
    "\n",
    "print(data.name)\n",
    "print(data.dimension)\n",
    "print(data.capacity)\n",
    "print(data.demands)\n",
    "# print(type(data.distances))\n",
    "print(data.service_times)"
   ],
   "metadata": {
    "collapsed": false
   }
  },
  {
   "cell_type": "code",
   "execution_count": 5,
   "outputs": [],
   "source": [
    "import state.state as st"
   ],
   "metadata": {
    "collapsed": false
   }
  },
  {
   "cell_type": "code",
   "execution_count": 6,
   "outputs": [
    {
     "data": {
      "text/plain": "[[21, 22, 23, 26, 28, 30, 27, 25, 24, 29, 20, 43, 42],\n [67, 65, 63, 62, 74, 72, 61, 64, 68, 69, 66],\n [5, 3, 4, 6, 8, 9, 11, 10, 7, 1, 2, 75, 91, 89],\n [47, 49, 52, 50, 51, 48, 45, 44, 40, 41, 46, 59, 57, 55],\n [90, 87, 86, 84, 85, 88, 83, 82, 81, 78],\n [98, 96, 95, 94, 93, 92, 97, 100, 99],\n [13, 17, 18, 19, 15, 14, 16, 12],\n [34, 36, 39, 38, 37, 35, 31, 33, 32],\n [54, 53, 56, 58, 60, 80, 79, 77, 73],\n [76, 71, 70]]"
     },
     "execution_count": 6,
     "metadata": {},
     "output_type": "execute_result"
    }
   ],
   "source": [
    "initial_state = st.nearest_neighbor(data)\n",
    "initial_state.routes"
   ],
   "metadata": {
    "collapsed": false
   }
  },
  {
   "cell_type": "code",
   "execution_count": 7,
   "outputs": [],
   "source": [
    "from examples.operator import removal as rm"
   ],
   "metadata": {
    "collapsed": false
   }
  },
  {
   "cell_type": "code",
   "execution_count": 8,
   "outputs": [
    {
     "ename": "ValueError",
     "evalue": "Solution does not contain customer 41.",
     "output_type": "error",
     "traceback": [
      "\u001B[0;31m---------------------------------------------------------------------------\u001B[0m",
      "\u001B[0;31mValueError\u001B[0m                                Traceback (most recent call last)",
      "Cell \u001B[0;32mIn[8], line 1\u001B[0m\n\u001B[0;32m----> 1\u001B[0m curr \u001B[38;5;241m=\u001B[39m \u001B[43mrm\u001B[49m\u001B[38;5;241;43m.\u001B[39;49m\u001B[43mrandom_removal\u001B[49m\u001B[43m(\u001B[49m\u001B[43minitial_state\u001B[49m\u001B[43m,\u001B[49m\u001B[43m \u001B[49m\u001B[43mrnd\u001B[49m\u001B[38;5;241;43m.\u001B[39;49m\u001B[43mRandomState\u001B[49m\u001B[43m(\u001B[49m\u001B[43mSEED\u001B[49m\u001B[43m)\u001B[49m\u001B[43m)\u001B[49m\n\u001B[1;32m      2\u001B[0m \u001B[38;5;28mprint\u001B[39m(curr)\n",
      "File \u001B[0;32m~/thesis/ALNS/examples/operator/removal.py:18\u001B[0m, in \u001B[0;36mrandom_removal\u001B[0;34m(state, rnd_state)\u001B[0m\n\u001B[1;32m     14\u001B[0m \u001B[38;5;28;01mfor\u001B[39;00m customer \u001B[38;5;129;01min\u001B[39;00m rnd_state\u001B[38;5;241m.\u001B[39mchoice(\n\u001B[1;32m     15\u001B[0m         \u001B[38;5;28mrange\u001B[39m(\u001B[38;5;241m1\u001B[39m, state\u001B[38;5;241m.\u001B[39mdata\u001B[38;5;241m.\u001B[39mdimension), customers_to_remove, replace\u001B[38;5;241m=\u001B[39m\u001B[38;5;28;01mFalse\u001B[39;00m\n\u001B[1;32m     16\u001B[0m ):\n\u001B[1;32m     17\u001B[0m     destroyed\u001B[38;5;241m.\u001B[39munassigned\u001B[38;5;241m.\u001B[39mappend(customer)\n\u001B[0;32m---> 18\u001B[0m     route \u001B[38;5;241m=\u001B[39m \u001B[43mdestroyed\u001B[49m\u001B[38;5;241;43m.\u001B[39;49m\u001B[43mfind_route\u001B[49m\u001B[43m(\u001B[49m\u001B[43mcustomer\u001B[49m\u001B[43m)\u001B[49m\n\u001B[1;32m     19\u001B[0m     route\u001B[38;5;241m.\u001B[39mremove(customer)\n\u001B[1;32m     21\u001B[0m \u001B[38;5;28;01mreturn\u001B[39;00m remove_empty_routes(destroyed)\n",
      "File \u001B[0;32m~/thesis/ALNS/examples/state/state.py:46\u001B[0m, in \u001B[0;36mCvrpState.find_route\u001B[0;34m(self, customer)\u001B[0m\n\u001B[1;32m     43\u001B[0m     \u001B[38;5;28;01mif\u001B[39;00m customer \u001B[38;5;129;01min\u001B[39;00m route:\n\u001B[1;32m     44\u001B[0m         \u001B[38;5;28;01mreturn\u001B[39;00m route\n\u001B[0;32m---> 46\u001B[0m \u001B[38;5;28;01mraise\u001B[39;00m \u001B[38;5;167;01mValueError\u001B[39;00m(\u001B[38;5;124mf\u001B[39m\u001B[38;5;124m\"\u001B[39m\u001B[38;5;124mSolution does not contain customer \u001B[39m\u001B[38;5;132;01m{\u001B[39;00mcustomer\u001B[38;5;132;01m}\u001B[39;00m\u001B[38;5;124m.\u001B[39m\u001B[38;5;124m\"\u001B[39m)\n",
      "\u001B[0;31mValueError\u001B[0m: Solution does not contain customer 41."
     ]
    }
   ],
   "source": [
    "curr = rm.random_removal(initial_state, rnd.RandomState(SEED))\n",
    "print(curr)"
   ],
   "metadata": {
    "collapsed": false
   }
  }
 ],
 "metadata": {
  "kernelspec": {
   "display_name": "Python 3",
   "language": "python",
   "name": "python3"
  },
  "language_info": {
   "codemirror_mode": {
    "name": "ipython",
    "version": 2
   },
   "file_extension": ".py",
   "mimetype": "text/x-python",
   "name": "python",
   "nbconvert_exporter": "python",
   "pygments_lexer": "ipython2",
   "version": "2.7.6"
  }
 },
 "nbformat": 4,
 "nbformat_minor": 0
}
