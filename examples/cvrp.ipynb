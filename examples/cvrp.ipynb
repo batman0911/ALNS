{
 "cells": [
  {
   "cell_type": "code",
   "execution_count": 1,
   "metadata": {
    "collapsed": true
   },
   "outputs": [],
   "source": [
    "import copy\n",
    "\n",
    "import cvrplib\n",
    "import matplotlib\n",
    "import matplotlib.pyplot as plt\n",
    "import numpy as np\n",
    "import numpy.random as rnd\n",
    "\n",
    "from alns import ALNS, State\n",
    "from alns.accept import RecordToRecordTravel\n",
    "from alns.select import RouletteWheel\n",
    "from alns.stop import MaxRuntime"
   ]
  },
  {
   "cell_type": "code",
   "execution_count": 2,
   "metadata": {
    "collapsed": false
   },
   "outputs": [],
   "source": [
    "%matplotlib inline"
   ]
  },
  {
   "cell_type": "code",
   "execution_count": 3,
   "metadata": {
    "collapsed": false
   },
   "outputs": [],
   "source": [
    "SEED = 1234"
   ]
  },
  {
   "cell_type": "code",
   "execution_count": 4,
   "metadata": {
    "collapsed": false
   },
   "outputs": [
    {
     "name": "stdout",
     "output_type": "stream",
     "text": [
      "C101\n",
      "101\n",
      "200\n",
      "[0, 10, 30, 10, 10, 10, 20, 20, 20, 10, 10, 10, 20, 30, 10, 40, 40, 20, 20, 10, 10, 20, 20, 10, 10, 40, 10, 10, 20, 10, 10, 20, 30, 40, 20, 10, 10, 20, 30, 20, 10, 10, 20, 10, 10, 10, 30, 10, 10, 10, 10, 10, 10, 20, 40, 10, 30, 40, 30, 10, 20, 10, 20, 50, 10, 10, 10, 10, 10, 10, 30, 20, 10, 10, 50, 20, 10, 10, 20, 10, 10, 30, 20, 10, 20, 30, 10, 20, 30, 10, 10, 10, 20, 40, 10, 30, 10, 30, 20, 10, 20]\n",
      "[0, 90, 90, 90, 90, 90, 90, 90, 90, 90, 90, 90, 90, 90, 90, 90, 90, 90, 90, 90, 90, 90, 90, 90, 90, 90, 90, 90, 90, 90, 90, 90, 90, 90, 90, 90, 90, 90, 90, 90, 90, 90, 90, 90, 90, 90, 90, 90, 90, 90, 90, 90, 90, 90, 90, 90, 90, 90, 90, 90, 90, 90, 90, 90, 90, 90, 90, 90, 90, 90, 90, 90, 90, 90, 90, 90, 90, 90, 90, 90, 90, 90, 90, 90, 90, 90, 90, 90, 90, 90, 90, 90, 90, 90, 90, 90, 90, 90, 90, 90, 90]\n"
     ]
    }
   ],
   "source": [
    "# data, bks = cvrplib.read('data/ORTEC-n242-k12.vrp', 'data/ORTEC-n242-k12.sol')\n",
    "data = cvrplib.read('data/C101.txt')\n",
    "\n",
    "print(data.name)\n",
    "print(data.dimension)\n",
    "print(data.capacity)\n",
    "print(data.demands)\n",
    "# print(type(data.distances))\n",
    "print(data.service_times)"
   ]
  },
  {
   "cell_type": "code",
   "execution_count": 5,
   "metadata": {
    "collapsed": false
   },
   "outputs": [],
   "source": [
    "import alns_state.state as st"
   ]
  },
  {
   "cell_type": "code",
   "execution_count": 6,
   "metadata": {
    "collapsed": false
   },
   "outputs": [
    {
     "data": {
      "text/plain": [
       "[[21, 22, 23, 26, 28, 30, 27, 25, 24, 29, 20, 43, 42],\n",
       " [67, 65, 63, 62, 74, 72, 61, 64, 68, 69, 66],\n",
       " [5, 3, 4, 6, 8, 9, 11, 10, 7, 1, 2, 75, 91, 89],\n",
       " [47, 49, 52, 50, 51, 48, 45, 44, 40, 41, 46, 59, 57, 55],\n",
       " [90, 87, 86, 84, 85, 88, 83, 82, 81, 78],\n",
       " [98, 96, 95, 94, 93, 92, 97, 100, 99],\n",
       " [13, 17, 18, 19, 15, 14, 16, 12],\n",
       " [34, 36, 39, 38, 37, 35, 31, 33, 32],\n",
       " [54, 53, 56, 58, 60, 80, 79, 77, 73],\n",
       " [76, 71, 70]]"
      ]
     },
     "execution_count": 6,
     "metadata": {},
     "output_type": "execute_result"
    }
   ],
   "source": [
    "initial_state = st.nearest_neighbor(data)\n",
    "initial_state.routes"
   ]
  },
  {
   "cell_type": "code",
   "execution_count": 7,
   "metadata": {
    "collapsed": false
   },
   "outputs": [],
   "source": [
    "from alns_operator import removal as rm\n",
    "# import operator.removal as rm"
   ]
  },
  {
   "cell_type": "code",
   "execution_count": 8,
   "metadata": {
    "collapsed": false
   },
   "outputs": [],
   "source": [
    "# curr = rm.random_removal(initial_state, rnd.RandomState(SEED))\n",
    "# print(curr.cost)"
   ]
  },
  {
   "cell_type": "code",
   "execution_count": 9,
   "metadata": {},
   "outputs": [],
   "source": [
    "removal = rm.Removal(5, 2)"
   ]
  },
  {
   "cell_type": "code",
   "execution_count": 10,
   "metadata": {
    "collapsed": false
   },
   "outputs": [
    {
     "name": "stdout",
     "output_type": "stream",
     "text": [
      "1040\n"
     ]
    }
   ],
   "source": [
    "curr = removal.remove_specific_customer(initial_state, 29)\n",
    "print(curr.cost)"
   ]
  },
  {
   "cell_type": "code",
   "execution_count": 11,
   "metadata": {
    "collapsed": false
   },
   "outputs": [],
   "source": [
    "# sorted_cost = removal.sort_desc_cost_request(initial_state)\n",
    "# print(sorted_cost)"
   ]
  },
  {
   "cell_type": "code",
   "execution_count": 12,
   "metadata": {
    "collapsed": false
   },
   "outputs": [
    {
     "name": "stdout",
     "output_type": "stream",
     "text": [
      "1036\n",
      "[[21, 22, 23, 26, 28, 30, 27, 25, 24, 29, 20, 43, 42], [67, 65, 63, 62, 74, 72, 61, 64, 68, 69], [5, 3, 4, 6, 8, 9, 11, 10, 7, 1, 2, 75, 89], [47, 49, 52, 50, 51, 48, 45, 44, 40, 41, 46, 59, 57], [90, 87, 86, 84, 85, 88, 83, 82, 81, 78], [98, 96, 95, 94, 92, 97, 100, 99], [13, 17, 18, 19, 15, 14, 16, 12], [34, 36, 39, 38, 37, 35, 31, 33, 32], [54, 53, 56, 58, 60, 80, 79, 77, 73], [76, 71]]\n"
     ]
    }
   ],
   "source": [
    "curr = removal.worst_removal(initial_state, rnd.RandomState(SEED))\n",
    "print(curr.cost)\n",
    "print(curr.routes)"
   ]
  },
  {
   "cell_type": "code",
   "execution_count": 13,
   "metadata": {},
   "outputs": [],
   "source": [
    "from alns_operator import repairation as rp \n",
    "\n",
    "insertion = rp.Repairation()"
   ]
  },
  {
   "cell_type": "code",
   "execution_count": 14,
   "metadata": {},
   "outputs": [],
   "source": [
    "alns = ALNS(rnd.RandomState(SEED))\n",
    "\n",
    "# alns.add_destroy_operator(removal.random_removal)\n",
    "alns.add_destroy_operator(removal.worst_removal)\n",
    "\n",
    "alns.add_repair_operator(insertion.greedy_repair)"
   ]
  },
  {
   "cell_type": "code",
   "execution_count": 15,
   "metadata": {},
   "outputs": [],
   "source": [
    "from alns_operator import initial as initial\n",
    "\n",
    "init = initial.nearest_neighbor(data)\n",
    "select = RouletteWheel([25, 5, 1, 0], 0.8, 1, 1)\n",
    "accept = RecordToRecordTravel.autofit(init.objective(), 0.02, 0, 9000)\n",
    "stop = MaxRuntime(10)\n",
    "\n",
    "result = alns.iterate(init, select, accept, stop)"
   ]
  },
  {
   "cell_type": "code",
   "execution_count": 16,
   "metadata": {},
   "outputs": [
    {
     "name": "stdout",
     "output_type": "stream",
     "text": [
      "initial cost: 1050\n"
     ]
    }
   ],
   "source": [
    "print(f'initial cost: {init.objective()}')"
   ]
  },
  {
   "cell_type": "code",
   "execution_count": 17,
   "metadata": {},
   "outputs": [
    {
     "name": "stdout",
     "output_type": "stream",
     "text": [
      "Best heuristic objective is 928.\n"
     ]
    }
   ],
   "source": [
    "solution = result.best_state\n",
    "objective = solution.objective()\n",
    "# pct_diff = 100 * (objective - bks.cost) / bks.cost\n",
    "\n",
    "print(f\"Best heuristic objective is {objective}.\")\n",
    "# print(f\"This is {pct_diff:.1f}% worse than the optimal solution, which is {bks.cost}.\")"
   ]
  },
  {
   "cell_type": "code",
   "execution_count": 18,
   "metadata": {},
   "outputs": [
    {
     "data": {
      "image/png": "[encoded data removed]",
      "text/plain": [
       "<Figure size 1200x600 with 1 Axes>"
      ]
     },
     "metadata": {},
     "output_type": "display_data"
    }
   ],
   "source": [
    "_, ax = plt.subplots(figsize=(12, 6))\n",
    "result.plot_objectives(ax=ax)"
   ]
  }
 ],
 "metadata": {
  "kernelspec": {
   "display_name": "venv",
   "language": "python",
   "name": "python3"
  },
  "language_info": {
   "codemirror_mode": {
    "name": "ipython",
    "version": 3
   },
   "file_extension": ".py",
   "mimetype": "text/x-python",
   "name": "python",
   "nbconvert_exporter": "python",
   "pygments_lexer": "ipython3",
   "version": "3.10.8"
  },
  "vscode": {
   "interpreter": {
    "hash": "b99640ea570126bdc0caa1661eb0f1ecccd650fb7e419634df8b108c0411cc43"
   }
  }
 },
 "nbformat": 4,
 "nbformat_minor": 0
}
