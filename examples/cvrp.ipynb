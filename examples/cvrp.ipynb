{
 "cells": [
  {
   "cell_type": "code",
   "execution_count": 1,
   "metadata": {
    "collapsed": true
   },
   "outputs": [],
   "source": [
    "import copy\n",
    "\n",
    "import cvrplib\n",
    "import matplotlib\n",
    "import matplotlib.pyplot as plt\n",
    "import numpy as np\n",
    "import numpy.random as rnd\n",
    "\n",
    "from alns import ALNS, State\n",
    "from alns.accept import RecordToRecordTravel\n",
    "from alns.select import RouletteWheel\n",
    "from alns.stop import MaxRuntime"
   ]
  },
  {
   "cell_type": "code",
   "execution_count": 2,
   "metadata": {
    "collapsed": false
   },
   "outputs": [],
   "source": [
    "%matplotlib inline"
   ]
  },
  {
   "cell_type": "code",
   "execution_count": 3,
   "metadata": {
    "collapsed": false
   },
   "outputs": [],
   "source": [
    "SEED = 1234"
   ]
  },
  {
   "cell_type": "code",
   "execution_count": 4,
   "metadata": {
    "collapsed": false
   },
   "outputs": [
    {
     "name": "stdout",
     "output_type": "stream",
     "text": [
      "C101\n",
      "101\n",
      "200\n",
      "[0, 10, 30, 10, 10, 10, 20, 20, 20, 10, 10, 10, 20, 30, 10, 40, 40, 20, 20, 10, 10, 20, 20, 10, 10, 40, 10, 10, 20, 10, 10, 20, 30, 40, 20, 10, 10, 20, 30, 20, 10, 10, 20, 10, 10, 10, 30, 10, 10, 10, 10, 10, 10, 20, 40, 10, 30, 40, 30, 10, 20, 10, 20, 50, 10, 10, 10, 10, 10, 10, 30, 20, 10, 10, 50, 20, 10, 10, 20, 10, 10, 30, 20, 10, 20, 30, 10, 20, 30, 10, 10, 10, 20, 40, 10, 30, 10, 30, 20, 10, 20]\n",
      "[0, 90, 90, 90, 90, 90, 90, 90, 90, 90, 90, 90, 90, 90, 90, 90, 90, 90, 90, 90, 90, 90, 90, 90, 90, 90, 90, 90, 90, 90, 90, 90, 90, 90, 90, 90, 90, 90, 90, 90, 90, 90, 90, 90, 90, 90, 90, 90, 90, 90, 90, 90, 90, 90, 90, 90, 90, 90, 90, 90, 90, 90, 90, 90, 90, 90, 90, 90, 90, 90, 90, 90, 90, 90, 90, 90, 90, 90, 90, 90, 90, 90, 90, 90, 90, 90, 90, 90, 90, 90, 90, 90, 90, 90, 90, 90, 90, 90, 90, 90, 90]\n"
     ]
    }
   ],
   "source": [
    "# data, bks = cvrplib.read('data/ORTEC-n242-k12.vrp', 'data/ORTEC-n242-k12.sol')\n",
    "data = cvrplib.read('data/C101.txt')\n",
    "\n",
    "print(data.name)\n",
    "print(data.dimension)\n",
    "print(data.capacity)\n",
    "print(data.demands)\n",
    "# print(type(data.distances))\n",
    "print(data.service_times)"
   ]
  },
  {
   "cell_type": "code",
   "execution_count": 5,
   "metadata": {
    "collapsed": false
   },
   "outputs": [],
   "source": [
    "import alns_state.state as st"
   ]
  },
  {
   "cell_type": "code",
   "execution_count": 6,
   "metadata": {
    "collapsed": false
   },
   "outputs": [
    {
     "data": {
      "text/plain": [
       "[[21, 22, 23, 26, 28, 30, 27, 25, 24, 29, 20, 43, 42],\n",
       " [67, 65, 63, 62, 74, 72, 61, 64, 68, 69, 66],\n",
       " [5, 3, 4, 6, 8, 9, 11, 10, 7, 1, 2, 75, 91, 89],\n",
       " [47, 49, 52, 50, 51, 48, 45, 44, 40, 41, 46, 59, 57, 55],\n",
       " [90, 87, 86, 84, 85, 88, 83, 82, 81, 78],\n",
       " [98, 96, 95, 94, 93, 92, 97, 100, 99],\n",
       " [13, 17, 18, 19, 15, 14, 16, 12],\n",
       " [34, 36, 39, 38, 37, 35, 31, 33, 32],\n",
       " [54, 53, 56, 58, 60, 80, 79, 77, 73],\n",
       " [76, 71, 70]]"
      ]
     },
     "execution_count": 6,
     "metadata": {},
     "output_type": "execute_result"
    }
   ],
   "source": [
    "initial_state = st.nearest_neighbor(data)\n",
    "initial_state.routes"
   ]
  },
  {
   "cell_type": "code",
   "execution_count": 7,
   "metadata": {
    "collapsed": false
   },
   "outputs": [],
   "source": [
    "from alns_operator import removal as rm\n",
    "# import operator.removal as rm"
   ]
  },
  {
   "cell_type": "code",
   "execution_count": 8,
   "metadata": {
    "collapsed": false
   },
   "outputs": [],
   "source": [
    "# curr = rm.random_removal(initial_state, rnd.RandomState(SEED))\n",
    "# print(curr.cost)"
   ]
  },
  {
   "cell_type": "code",
   "execution_count": 9,
   "metadata": {},
   "outputs": [],
   "source": [
    "removal = rm.Removal(5, 20)"
   ]
  },
  {
   "cell_type": "code",
   "execution_count": 10,
   "metadata": {
    "collapsed": false
   },
   "outputs": [
    {
     "name": "stdout",
     "output_type": "stream",
     "text": [
      "1040\n"
     ]
    }
   ],
   "source": [
    "curr = removal.remove_specific_customer(initial_state, 29)\n",
    "print(curr.cost)"
   ]
  },
  {
   "cell_type": "code",
   "execution_count": 11,
   "metadata": {
    "collapsed": false
   },
   "outputs": [
    {
     "name": "stdout",
     "output_type": "stream",
     "text": [
      "[(29, 10), (73, 8), (46, 7), (70, 7), (60, 6), (78, 6), (88, 6), (89, 6), (20, 5), (42, 5), (2, 4), (16, 4), (30, 4), (31, 4), (53, 4), (92, 4), (12, 3), (19, 3), (39, 3), (66, 3), (71, 3), (75, 3), (84, 3), (100, 3), (8, 2), (9, 2), (10, 2), (13, 2), (14, 2), (18, 2), (23, 2), (24, 2), (33, 2), (35, 2), (38, 2), (41, 2), (51, 2), (52, 2), (55, 2), (62, 2), (63, 2), (68, 2), (69, 2), (72, 2), (74, 2), (1, 1), (11, 1), (15, 1), (22, 1), (25, 1), (37, 1), (40, 1), (47, 1), (59, 1), (80, 1), (81, 1), (82, 1), (83, 1), (85, 1), (90, 1), (91, 1), (93, 1), (94, 1), (95, 1), (96, 1), (99, 1), (3, 0), (4, 0), (5, 0), (6, 0), (7, 0), (17, 0), (21, 0), (26, 0), (27, 0), (28, 0), (32, 0), (34, 0), (36, 0), (43, 0), (44, 0), (45, 0), (48, 0), (49, 0), (50, 0), (54, 0), (56, 0), (57, 0), (58, 0), (61, 0), (64, 0), (65, 0), (67, 0), (76, 0), (77, 0), (79, 0), (86, 0), (87, 0), (97, 0), (98, 0)]\n"
     ]
    }
   ],
   "source": [
    "sorted_cost = removal.sort_desc_cost_request(initial_state)\n",
    "print(sorted_cost)"
   ]
  },
  {
   "cell_type": "code",
   "execution_count": 12,
   "metadata": {
    "collapsed": false
   },
   "outputs": [
    {
     "name": "stdout",
     "output_type": "stream",
     "text": [
      "1021\n",
      "[[21, 22, 23, 26, 28, 30, 27, 25, 24, 43, 42], [67, 65, 63, 62, 74, 72, 61, 64, 68, 66], [5, 3, 4, 6, 8, 9, 11, 10, 7, 1, 2, 75, 91], [47, 49, 52, 50, 51, 48, 45, 44, 40, 41, 46, 59, 57, 55], [90, 87, 86, 84, 85, 88, 83, 82, 81, 78], [98, 96, 95, 94, 93, 92, 97, 100, 99], [13, 17, 18, 19, 15, 14, 16, 12], [34, 36, 39, 38, 37, 35, 31, 33, 32], [54, 53, 56, 58, 60, 80, 79, 77], [76, 71, 70]]\n"
     ]
    }
   ],
   "source": [
    "curr = removal.worst_removal(initial_state, rnd.RandomState(SEED))\n",
    "print(curr.cost)\n",
    "print(curr.routes)"
   ]
  },
  {
   "cell_type": "code",
   "execution_count": 13,
   "metadata": {},
   "outputs": [],
   "source": [
    "# initial solution\n",
    "def neighbors(customer):\n",
    "    \"\"\"\n",
    "    Return the nearest neighbors of the customer, excluding the depot.\n",
    "    \"\"\"\n",
    "    locations = np.argsort(data.distances[customer])\n",
    "    return locations[locations != 0]\n",
    "\n",
    "\n",
    "def nearest_neighbor():\n",
    "    \"\"\"\n",
    "    Build a solution by iteratively constructing routes, where the nearest\n",
    "    customer is added until the route has met the vehicle capacity limit.\n",
    "    \"\"\"\n",
    "    routes = []\n",
    "    unvisited = list(range(1, data.dimension))\n",
    "\n",
    "    while unvisited:\n",
    "        route = [0]  # Start at the depot\n",
    "        route_demands = 0\n",
    "\n",
    "        while unvisited:\n",
    "            # Add the nearest unvisited customer to the route till max capacity\n",
    "            current = route[-1]\n",
    "            nearest = [nb for nb in neighbors(current) if nb in unvisited][0]\n",
    "\n",
    "            if route_demands + data.demands[nearest] > data.capacity:\n",
    "                break\n",
    "\n",
    "            route.append(nearest)\n",
    "            unvisited.remove(nearest)\n",
    "            route_demands += data.demands[nearest]\n",
    "\n",
    "        customers = route[1:]  # Remove the depot\n",
    "        routes.append(customers)\n",
    "\n",
    "    return st.CvrpState(routes)"
   ]
  },
  {
   "cell_type": "code",
   "execution_count": 15,
   "metadata": {},
   "outputs": [],
   "source": [
    "def greedy_repair(state: st.CvrpState, rnd_state: rnd.RandomState):\n",
    "    \"\"\"\n",
    "    Inserts the unassigned customers in the best route. If there are no\n",
    "    feasible insertions, then a new route is created.\n",
    "    \"\"\"\n",
    "    rnd_state.shuffle(state.unassigned)\n",
    "\n",
    "    while len(state.unassigned) != 0:\n",
    "        customer = state.unassigned.pop()\n",
    "        route, idx = best_insert(customer, state)\n",
    "\n",
    "        if route is not None:\n",
    "            route.insert(idx, customer)\n",
    "        else:\n",
    "            state.routes.append([customer])\n",
    "\n",
    "    return state\n",
    "\n",
    "\n",
    "def best_insert(customer: int, state: st.CvrpState):\n",
    "    \"\"\"\n",
    "    Finds the best feasible route and insertion idx for the customer.\n",
    "    Return (None, None) if no feasible route insertions are found.\n",
    "    \"\"\"\n",
    "    best_cost, best_route, best_idx = None, None, None\n",
    "\n",
    "    for route in state.routes:\n",
    "        for idx in range(len(route) + 1):\n",
    "\n",
    "            if can_insert(customer, route):\n",
    "                cost = insert_cost(customer, route, idx)\n",
    "\n",
    "                if best_cost is None or cost < best_cost:\n",
    "                    best_cost, best_route, best_idx = cost, route, idx\n",
    "\n",
    "    return best_route, best_idx\n",
    "\n",
    "\n",
    "def can_insert(customer, route):\n",
    "    \"\"\"\n",
    "    Checks if inserting customer does not exceed vehicle capacity.\n",
    "    \"\"\"\n",
    "    total = sum(data.demands[cust] for cust in route) + data.demands[customer]\n",
    "    return total <= data.capacity\n",
    "\n",
    "\n",
    "def insert_cost(customer, route, idx):\n",
    "    \"\"\"\n",
    "    Computes the insertion cost for inserting customer in route at idx.\n",
    "    \"\"\"\n",
    "    pred = 0 if idx == 0 else route[idx - 1]\n",
    "    succ = 0 if idx == len(route) else route[idx]\n",
    "\n",
    "    # Increase in cost by adding the customer\n",
    "    cost = data.distances[pred][customer] + data.distances[customer][succ]\n",
    "\n",
    "    # Decrease in cost by removing old edge (pred, succ)\n",
    "    cost -= data.distances[pred][succ]\n",
    "\n",
    "    return cost"
   ]
  },
  {
   "cell_type": "code",
   "execution_count": 16,
   "metadata": {},
   "outputs": [],
   "source": [
    "alns = ALNS(rnd.RandomState(SEED))\n",
    "\n",
    "# alns.add_destroy_operator(random_removal)\n",
    "alns.add_destroy_operator(rm.worst_removal)\n",
    "\n",
    "alns.add_repair_operator(greedy_repair)"
   ]
  },
  {
   "cell_type": "code",
   "execution_count": 17,
   "metadata": {},
   "outputs": [
    {
     "ename": "TypeError",
     "evalue": "CvrpState.__init__() missing 1 required positional argument: 'routes'",
     "output_type": "error",
     "traceback": [
      "\u001b[0;31m---------------------------------------------------------------------------\u001b[0m",
      "\u001b[0;31mTypeError\u001b[0m                                 Traceback (most recent call last)",
      "Cell \u001b[0;32mIn[17], line 1\u001b[0m\n\u001b[0;32m----> 1\u001b[0m init \u001b[39m=\u001b[39m nearest_neighbor()\n\u001b[1;32m      2\u001b[0m select \u001b[39m=\u001b[39m RouletteWheel([\u001b[39m25\u001b[39m, \u001b[39m5\u001b[39m, \u001b[39m1\u001b[39m, \u001b[39m0\u001b[39m], \u001b[39m0.8\u001b[39m, \u001b[39m1\u001b[39m, \u001b[39m1\u001b[39m)\n\u001b[1;32m      3\u001b[0m accept \u001b[39m=\u001b[39m RecordToRecordTravel\u001b[39m.\u001b[39mautofit(init\u001b[39m.\u001b[39mobjective(), \u001b[39m0.02\u001b[39m, \u001b[39m0\u001b[39m, \u001b[39m9000\u001b[39m)\n",
      "Cell \u001b[0;32mIn[13], line 37\u001b[0m, in \u001b[0;36mnearest_neighbor\u001b[0;34m()\u001b[0m\n\u001b[1;32m     34\u001b[0m     customers \u001b[39m=\u001b[39m route[\u001b[39m1\u001b[39m:]  \u001b[39m# Remove the depot\u001b[39;00m\n\u001b[1;32m     35\u001b[0m     routes\u001b[39m.\u001b[39mappend(customers)\n\u001b[0;32m---> 37\u001b[0m \u001b[39mreturn\u001b[39;00m st\u001b[39m.\u001b[39;49mCvrpState(routes)\n",
      "\u001b[0;31mTypeError\u001b[0m: CvrpState.__init__() missing 1 required positional argument: 'routes'"
     ]
    }
   ],
   "source": [
    "init = nearest_neighbor()\n",
    "select = RouletteWheel([25, 5, 1, 0], 0.8, 1, 1)\n",
    "accept = RecordToRecordTravel.autofit(init.objective(), 0.02, 0, 9000)\n",
    "stop = MaxRuntime(5)\n",
    "\n",
    "result = alns.iterate(init, select, accept, stop)"
   ]
  }
 ],
 "metadata": {
  "kernelspec": {
   "display_name": "Python 3",
   "language": "python",
   "name": "python3"
  },
  "language_info": {
   "codemirror_mode": {
    "name": "ipython",
    "version": 3
   },
   "file_extension": ".py",
   "mimetype": "text/x-python",
   "name": "python",
   "nbconvert_exporter": "python",
   "pygments_lexer": "ipython3",
   "version": "3.10.10"
  }
 },
 "nbformat": 4,
 "nbformat_minor": 0
}
