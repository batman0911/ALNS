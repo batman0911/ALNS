{
 "cells": [
  {
   "cell_type": "code",
   "execution_count": 38,
   "id": "4761e952-3831-4409-b75f-97a0c1414041",
   "metadata": {
    "id": "4761e952-3831-4409-b75f-97a0c1414041"
   },
   "outputs": [],
   "source": [
    "import copy\n",
    "\n",
    "import cvrplib\n",
    "import matplotlib\n",
    "import matplotlib.pyplot as plt\n",
    "import numpy as np\n",
    "import numpy.random as rnd\n",
    "\n",
    "from alns import ALNS, State\n",
    "from alns.accept import RecordToRecordTravel\n",
    "from alns.select import RouletteWheel\n",
    "from alns.stop import MaxRuntime"
   ]
  },
  {
   "cell_type": "code",
   "execution_count": 39,
   "id": "c8958300-e8ac-42bc-9543-d7ebcb0e364b",
   "metadata": {
    "id": "c8958300-e8ac-42bc-9543-d7ebcb0e364b"
   },
   "outputs": [],
   "source": [
    "%matplotlib inline"
   ]
  },
  {
   "cell_type": "code",
   "execution_count": 40,
   "id": "343632a7",
   "metadata": {
    "id": "343632a7"
   },
   "outputs": [],
   "source": [
    "SEED = 1234"
   ]
  },
  {
   "cell_type": "markdown",
   "id": "420d8c99-2ad1-4ec8-a29b-061bce69be91",
   "metadata": {
    "id": "420d8c99-2ad1-4ec8-a29b-061bce69be91"
   },
   "source": [
    "# The capacitated vehicle routing problem\n",
    "The vehicle routing problem (VRP) is one of the most studied problems in operations research. Given a fleet of vehicles and customers, the goal is to construct a set of routes such that each customer is visited exactly once, while minimizing the total distance traveled by the vehicles. \n",
    "\n",
    "Despite decades of research, the VRP (and variants thereof) remains a very hard problem to solve and new algorithms continue to be developed to address this problem. A related and interesting fact is that ALNS was originally proposed by [Ropke and Pisinger (2006)](https://pubsonline.informs.org/doi/abs/10.1287/trsc.1050.0135?casa_token=-DeLGU-Nr_4AAAAA:hTPxhhAn8TRi5h8p5LdQ_r-tQ1j4lCD4-K4ZR4gSi0e9O6reL6vcyfC0NZmkW1hoQGkUEjcumwH6) to solve many variants of the vehicle routing problem. \n",
    "\n",
    "In this notebook, we use ALNS to solve the most famous VRP variant: the *Capacitated Vehicle Routing Problem (CVRP)*. The CVRP can be described using an undirected graph $G=(V,E)$, where $V$ is the vertex set and $E$ is the edge set. The vertex set $V$ is partitioned into $V=\\{0\\} \\cup V_c$, where $0$ is the depot and $V_c=\\{1, \\dots, n\\}$ denotes the set of $n$ customers. Each customer $i \\in V_c$ has a demand $q_i > 0$. A distance $d_{ij}$ is associated with each edge $(i, j) \\in E$. We assume that we have an unlimited fleet of homogeneous vehicles with capacity $Q$ located at the depot. A feasible solution to the CVRP is a set of routes, each served by a single vehicle, such that each customer is served exactly once and none of the routes exceed the vehicle capacity. The goal is to minimize the total distance traveled."
   ]
  },
  {
   "cell_type": "markdown",
   "id": "6ff79ded",
   "metadata": {
    "id": "6ff79ded"
   },
   "source": [
    "## Data\n",
    "[CVRPLIB](http://vrp.atd-lab.inf.puc-rio.br/index.php/en/) contains a large collection of CVRP benchmark instances. The library is actively maintained and new best known solutions are updated regularly. We use the `cvrplib` package to read the `ORTEC-n242-k12` instance, which consists of 241 customers (+ 1 depot) and 12 vehicles, but we assume that an unlimited number of vehicles is available."
   ]
  },
  {
   "cell_type": "code",
   "execution_count": 41,
   "id": "da0dfed7",
   "metadata": {
    "id": "da0dfed7"
   },
   "outputs": [
    {
     "name": "stdout",
     "output_type": "stream",
     "text": [
      "C101\n",
      "101\n",
      "200\n",
      "[0, 10, 30, 10, 10, 10, 20, 20, 20, 10, 10, 10, 20, 30, 10, 40, 40, 20, 20, 10, 10, 20, 20, 10, 10, 40, 10, 10, 20, 10, 10, 20, 30, 40, 20, 10, 10, 20, 30, 20, 10, 10, 20, 10, 10, 10, 30, 10, 10, 10, 10, 10, 10, 20, 40, 10, 30, 40, 30, 10, 20, 10, 20, 50, 10, 10, 10, 10, 10, 10, 30, 20, 10, 10, 50, 20, 10, 10, 20, 10, 10, 30, 20, 10, 20, 30, 10, 20, 30, 10, 10, 10, 20, 40, 10, 30, 10, 30, 20, 10, 20]\n",
      "[0, 90, 90, 90, 90, 90, 90, 90, 90, 90, 90, 90, 90, 90, 90, 90, 90, 90, 90, 90, 90, 90, 90, 90, 90, 90, 90, 90, 90, 90, 90, 90, 90, 90, 90, 90, 90, 90, 90, 90, 90, 90, 90, 90, 90, 90, 90, 90, 90, 90, 90, 90, 90, 90, 90, 90, 90, 90, 90, 90, 90, 90, 90, 90, 90, 90, 90, 90, 90, 90, 90, 90, 90, 90, 90, 90, 90, 90, 90, 90, 90, 90, 90, 90, 90, 90, 90, 90, 90, 90, 90, 90, 90, 90, 90, 90, 90, 90, 90, 90, 90]\n"
     ]
    }
   ],
   "source": [
    "# data, bks = cvrplib.read('data/ORTEC-n242-k12.vrp', 'data/ORTEC-n242-k12.sol')\n",
    "data = cvrplib.read('data/C101.txt')\n",
    "\n",
    "print(data.name)\n",
    "print(data.dimension)\n",
    "print(data.capacity)\n",
    "print(data.demands)\n",
    "# print(type(data.distances))\n",
    "print(data.service_times)"
   ]
  },
  {
   "cell_type": "markdown",
   "id": "2398da3e",
   "metadata": {
    "id": "2398da3e"
   },
   "source": [
    "The `bks` variable contains the best known solution. Let's plot it, together with the coordinates of the customers:"
   ]
  },
  {
   "cell_type": "code",
   "execution_count": 42,
   "id": "776916f5",
   "metadata": {
    "id": "776916f5"
   },
   "outputs": [],
   "source": [
    "def plot_solution(solution, name=\"CVRP solution\"):\n",
    "    \"\"\"\n",
    "    Plot the routes of the passed-in solution.\n",
    "    \"\"\"\n",
    "    fig, ax = plt.subplots(figsize=(12, 10))\n",
    "    cmap = matplotlib.cm.rainbow(np.linspace(0, 1, len(solution.routes)))\n",
    "\n",
    "    for idx, route in enumerate(solution.routes):\n",
    "        ax.plot(\n",
    "            [data.coordinates[loc][0] for loc in [0] + route + [0]],\n",
    "            [data.coordinates[loc][1] for loc in [0] + route + [0]],\n",
    "            color=cmap[idx],\n",
    "            marker='.'\n",
    "        )\n",
    "        \n",
    "    # Plot the depot\n",
    "    kwargs = dict(label=\"Depot\", zorder=3, marker=\"*\", s=750)\n",
    "    ax.scatter(*data.coordinates[0], c=\"tab:red\", **kwargs) \n",
    "\n",
    "    ax.set_title(f\"{name}\\n Total distance: {solution.cost}\")\n",
    "    ax.set_xlabel(\"X-coordinate\")\n",
    "    ax.set_ylabel(\"Y-coordinate\")\n",
    "    ax.legend(frameon=False, ncol=3)"
   ]
  },
  {
   "cell_type": "code",
   "execution_count": 43,
   "id": "f951a07d-ff46-44a3-ba74-844858bfe843",
   "metadata": {
    "colab": {
     "base_uri": "https://localhost:8080/",
     "height": 637
    },
    "id": "8f19d325",
    "outputId": "2c9bb974-4e8e-4cd1-fad5-668aa93c18fd"
   },
   "outputs": [],
   "source": [
    "# plot_solution(bks, name=\"Best known solution\")"
   ]
  },
  {
   "cell_type": "markdown",
   "id": "49a823ca",
   "metadata": {
    "id": "49a823ca"
   },
   "source": [
    "## Solution state"
   ]
  },
  {
   "cell_type": "code",
   "execution_count": 44,
   "id": "ed998203-e6ee-4c5b-9e52-fe7d99ac3c59",
   "metadata": {
    "id": "ed998203-e6ee-4c5b-9e52-fe7d99ac3c59"
   },
   "outputs": [],
   "source": [
    "class CvrpState(State):\n",
    "    \"\"\"\n",
    "    Solution state for CVRP. It has two data members, routes and unassigned.\n",
    "    Routes is a list of list of integers, where each inner list corresponds to\n",
    "    a single route denoting the sequence of customers to be visited. A route\n",
    "    does not contain the start and end depot. Unassigned is a list of integers, \n",
    "    each integer representing an unassigned customer.\n",
    "    \"\"\"\n",
    "\n",
    "    def __init__(self, routes, unassigned=None):\n",
    "        self.routes: list = routes\n",
    "        self.unassigned = unassigned if unassigned is not None else []\n",
    "\n",
    "    def copy(self):\n",
    "        return CvrpState(copy.deepcopy(self.routes), self.unassigned.copy())\n",
    "\n",
    "    def objective(self):\n",
    "        \"\"\"\n",
    "        Computes the total route costs.\n",
    "        \"\"\"\n",
    "        return sum(route_cost(route) for route in self.routes)\n",
    "    \n",
    "    @property\n",
    "    def cost(self):\n",
    "        \"\"\"\n",
    "        Alias for objective method. Used for plotting.\n",
    "        \"\"\"\n",
    "        return self.objective()\n",
    "\n",
    "    def find_route(self, customer) -> list:\n",
    "        \"\"\"\n",
    "        Return the route that contains the passed-in customer.\n",
    "        \"\"\"\n",
    "        for route in self.routes:\n",
    "            if customer in route:\n",
    "                return route\n",
    "\n",
    "        raise ValueError(f\"Solution does not contain customer {customer}.\")\n",
    "        \n",
    "def route_cost(route):\n",
    "    tour = [0] + route + [0]\n",
    "    return sum(data.distances[tour[idx]][tour[idx+1]] for idx in range(len(tour) - 1))"
   ]
  },
  {
   "cell_type": "markdown",
   "id": "06375ce5",
   "metadata": {
    "id": "06375ce5"
   },
   "source": [
    "## Destroy operators"
   ]
  },
  {
   "cell_type": "markdown",
   "id": "21b6e774-d6f5-4350-bbae-a1358f3e7d18",
   "metadata": {
    "id": "21b6e774-d6f5-4350-bbae-a1358f3e7d18"
   },
   "source": [
    "Destroy operators break parts of a solution down, leaving an incomplete state. This is the first part of each iteration of the ALNS meta-heuristic; the incomplete solution is subsequently repaired by any one repair operator. We will consider one destroy operator: **random removal**. We will also use a separate parameter, the degree of destruction, to control the extent of the damage done to a solution in each step."
   ]
  },
  {
   "cell_type": "code",
   "execution_count": 45,
   "id": "e34acdfb-c269-46cd-875d-348c7fd45716",
   "metadata": {
    "id": "e34acdfb-c269-46cd-875d-348c7fd45716"
   },
   "outputs": [],
   "source": [
    "degree_of_destruction = 0.05\n",
    "customers_to_remove = int((data.dimension - 1) * degree_of_destruction)"
   ]
  },
  {
   "cell_type": "code",
   "execution_count": 46,
   "id": "7c3d8c4a-2a4b-4866-a281-454f7c3bb61c",
   "metadata": {
    "id": "7c3d8c4a-2a4b-4866-a281-454f7c3bb61c"
   },
   "outputs": [],
   "source": [
    "def random_removal(state: CvrpState, rnd_state: rnd.RandomState):\n",
    "    \"\"\"\n",
    "    Removes a number of randomly selected customers from the passed-in solution.\n",
    "    \"\"\"\n",
    "    destroyed = state.copy()\n",
    "\n",
    "    for customer in rnd_state.choice(\n",
    "        range(1, data.dimension), customers_to_remove, replace=False\n",
    "    ):\n",
    "        destroyed.unassigned.append(customer)\n",
    "        route = destroyed.find_route(customer)\n",
    "        route.remove(customer)\n",
    "\n",
    "    return remove_empty_routes(destroyed)\n",
    "\n",
    "\n",
    "def remove_empty_routes(state: CvrpState):\n",
    "    \"\"\"\n",
    "    Remove empty routes after applying the destroy operator.\n",
    "    \"\"\"\n",
    "    state.routes = [route for route in state.routes if len(route) != 0]\n",
    "    return state\n",
    "\n",
    "\n",
    "def remove_specific_customer(state: CvrpState, customer: int):\n",
    "    destroyed = state.copy()\n",
    "    \n",
    "    destroyed.unassigned.append(customer)\n",
    "    route = destroyed.find_route(customer)\n",
    "    route.remove(customer)\n",
    "    \n",
    "    return remove_empty_routes(destroyed)\n",
    "\n",
    "\n",
    "def sort_desc_cost_request(state: CvrpState):\n",
    "    sorted_cost_idx = []\n",
    "    for customer in data.customers:\n",
    "        # print(customer)\n",
    "    return None\n",
    "\n",
    "\n",
    "q = 5\n",
    "def worst_removal(state: CvrpState, rnd_state: rnd.RandomState):\n",
    "    global q\n",
    "    destroyed = state.copy()\n",
    "    # calculate cost if remove i\n",
    "    # for customer in \n",
    "        \n",
    "    "
   ]
  },
  {
   "cell_type": "code",
   "execution_count": 46,
   "id": "9b9664fa",
   "metadata": {},
   "outputs": [],
   "source": []
  },
  {
   "cell_type": "markdown",
   "id": "eb0a7653",
   "metadata": {
    "id": "eb0a7653"
   },
   "source": [
    "## Repair operators\n",
    "We implement a simple, **greedy repair** strategy. It iterates over the set of unassigned customers and finds the best route and index to insert to, i.e., with the least increase in cost."
   ]
  },
  {
   "cell_type": "code",
   "execution_count": 47,
   "id": "95537882",
   "metadata": {
    "id": "95537882"
   },
   "outputs": [],
   "source": [
    "def greedy_repair(state: CvrpState, rnd_state: rnd.RandomState):\n",
    "    \"\"\"\n",
    "    Inserts the unassigned customers in the best route. If there are no\n",
    "    feasible insertions, then a new route is created.\n",
    "    \"\"\"\n",
    "    rnd_state.shuffle(state.unassigned)\n",
    "\n",
    "    while len(state.unassigned) != 0:\n",
    "        customer = state.unassigned.pop()\n",
    "        route, idx = best_insert(customer, state)\n",
    "\n",
    "        if route is not None:\n",
    "            route.insert(idx, customer)\n",
    "        else:\n",
    "            state.routes.append([customer])\n",
    "\n",
    "    return state\n",
    "\n",
    "\n",
    "def best_insert(customer: int, state: CvrpState):\n",
    "    \"\"\"\n",
    "    Finds the best feasible route and insertion idx for the customer.\n",
    "    Return (None, None) if no feasible route insertions are found.\n",
    "    \"\"\"\n",
    "    best_cost, best_route, best_idx = None, None, None\n",
    "\n",
    "    for route in state.routes:\n",
    "        for idx in range(len(route) + 1):\n",
    "\n",
    "            if can_insert(customer, route):\n",
    "                cost = insert_cost(customer, route, idx)\n",
    "\n",
    "                if best_cost is None or cost < best_cost:\n",
    "                    best_cost, best_route, best_idx = cost, route, idx\n",
    "\n",
    "    return best_route, best_idx\n",
    "\n",
    "\n",
    "def can_insert(customer, route):\n",
    "    \"\"\"\n",
    "    Checks if inserting customer does not exceed vehicle capacity.\n",
    "    \"\"\"\n",
    "    total = sum(data.demands[cust] for cust in route) + data.demands[customer]\n",
    "    return total <= data.capacity\n",
    "\n",
    "\n",
    "def insert_cost(customer, route, idx):\n",
    "    \"\"\"\n",
    "    Computes the insertion cost for inserting customer in route at idx.\n",
    "    \"\"\"\n",
    "    pred = 0 if idx == 0 else route[idx - 1]\n",
    "    succ = 0 if idx == len(route) else route[idx]\n",
    "\n",
    "    # Increase in cost by adding the customer\n",
    "    cost = data.distances[pred][customer] + data.distances[customer][succ]\n",
    "\n",
    "    # Decrease in cost by removing old edge (pred, succ)\n",
    "    cost -= data.distances[pred][succ]\n",
    "\n",
    "    return cost"
   ]
  },
  {
   "cell_type": "markdown",
   "id": "63b03225",
   "metadata": {
    "id": "63b03225"
   },
   "source": [
    "## Initial solution\n",
    "We need an initial solution that is going to be destroyed and repaired by the ALNS heuristic. To this end, we use a simple *nearest neighbor (NN)* heuristic. NN starts with an empty solution and iteratively adds the nearest customer to the routes. If there are no routes available, then a new route is created."
   ]
  },
  {
   "cell_type": "code",
   "execution_count": 48,
   "id": "56191127",
   "metadata": {
    "id": "56191127"
   },
   "outputs": [],
   "source": [
    "def neighbors(customer):\n",
    "    \"\"\"\n",
    "    Return the nearest neighbors of the customer, excluding the depot.\n",
    "    \"\"\"\n",
    "    locations = np.argsort(data.distances[customer])\n",
    "    return locations[locations != 0]\n",
    "\n",
    "\n",
    "def nearest_neighbor():\n",
    "    \"\"\"\n",
    "    Build a solution by iteratively constructing routes, where the nearest\n",
    "    customer is added until the route has met the vehicle capacity limit.\n",
    "    \"\"\"\n",
    "    routes = []\n",
    "    unvisited = list(range(1, data.dimension))\n",
    "\n",
    "    while unvisited:\n",
    "        route = [0]  # Start at the depot\n",
    "        route_demands = 0\n",
    "\n",
    "        while unvisited:\n",
    "            # Add the nearest unvisited customer to the route till max capacity\n",
    "            current = route[-1]\n",
    "            nearest = [nb for nb in neighbors(current) if nb in unvisited][0]\n",
    "\n",
    "            if route_demands + data.demands[nearest] > data.capacity:\n",
    "                break\n",
    "\n",
    "            route.append(nearest)\n",
    "            unvisited.remove(nearest)\n",
    "            route_demands += data.demands[nearest]\n",
    "\n",
    "        customers = route[1:]  # Remove the depot\n",
    "        routes.append(customers)\n",
    "\n",
    "    return CvrpState(routes)"
   ]
  },
  {
   "cell_type": "code",
   "execution_count": 49,
   "id": "1ceb1d6e",
   "metadata": {
    "colab": {
     "base_uri": "https://localhost:8080/",
     "height": 637
    },
    "id": "1ceb1d6e",
    "outputId": "173c9006-baa1-4c96-bfae-9deb731212cd"
   },
   "outputs": [
    {
     "data": {
      "text/plain": "<Figure size 1200x1000 with 1 Axes>",
      "image/png": "[encoded data removed]"
     },
     "metadata": {},
     "output_type": "display_data"
    }
   ],
   "source": [
    "plot_solution(nearest_neighbor(), 'Nearest neighbor solution')"
   ]
  },
  {
   "cell_type": "code",
   "execution_count": 50,
   "id": "32937075",
   "metadata": {},
   "outputs": [
    {
     "name": "stdout",
     "output_type": "stream",
     "text": [
      "1\n",
      "2\n",
      "3\n",
      "4\n",
      "5\n",
      "6\n",
      "7\n",
      "8\n",
      "9\n",
      "10\n",
      "11\n",
      "12\n",
      "13\n",
      "14\n",
      "15\n",
      "16\n",
      "17\n",
      "18\n",
      "19\n",
      "20\n",
      "21\n",
      "22\n",
      "23\n",
      "24\n",
      "25\n",
      "26\n",
      "27\n",
      "28\n",
      "29\n",
      "30\n",
      "31\n",
      "32\n",
      "33\n",
      "34\n",
      "35\n",
      "36\n",
      "37\n",
      "38\n",
      "39\n",
      "40\n",
      "41\n",
      "42\n",
      "43\n",
      "44\n",
      "45\n",
      "46\n",
      "47\n",
      "48\n",
      "49\n",
      "50\n",
      "51\n",
      "52\n",
      "53\n",
      "54\n",
      "55\n",
      "56\n",
      "57\n",
      "58\n",
      "59\n",
      "60\n",
      "61\n",
      "62\n",
      "63\n",
      "64\n",
      "65\n",
      "66\n",
      "67\n",
      "68\n",
      "69\n",
      "70\n",
      "71\n",
      "72\n",
      "73\n",
      "74\n",
      "75\n",
      "76\n",
      "77\n",
      "78\n",
      "79\n",
      "80\n",
      "81\n",
      "82\n",
      "83\n",
      "84\n",
      "85\n",
      "86\n",
      "87\n",
      "88\n",
      "89\n",
      "90\n",
      "91\n",
      "92\n",
      "93\n",
      "94\n",
      "95\n",
      "96\n",
      "97\n",
      "98\n",
      "99\n",
      "100\n"
     ]
    }
   ],
   "source": [
    "# sort_desc_cost_request(nearest_neighbor)"
   ]
  },
  {
   "cell_type": "markdown",
   "id": "ff1bc37f",
   "metadata": {
    "id": "ff1bc37f"
   },
   "source": [
    "## Heuristic solution\n",
    "\n",
    "Let's now construct our ALNS heuristic. Since we only have one destroy and repair operator, we do not actually use any adaptive operator selection -- but you can easily add more destroy and repair operators. "
   ]
  },
  {
   "cell_type": "code",
   "execution_count": 35,
   "id": "f850b236",
   "metadata": {
    "id": "f850b236"
   },
   "outputs": [],
   "source": [
    "alns = ALNS(rnd.RandomState(SEED))\n",
    "\n",
    "alns.add_destroy_operator(random_removal)\n",
    "\n",
    "alns.add_repair_operator(greedy_repair)"
   ]
  },
  {
   "cell_type": "code",
   "execution_count": 36,
   "id": "c9da2b44",
   "metadata": {
    "id": "c9da2b44"
   },
   "outputs": [
    {
     "ename": "KeyboardInterrupt",
     "evalue": "",
     "output_type": "error",
     "traceback": [
      "\u001B[0;31m---------------------------------------------------------------------------\u001B[0m",
      "\u001B[0;31mKeyboardInterrupt\u001B[0m                         Traceback (most recent call last)",
      "Cell \u001B[0;32mIn[36], line 6\u001B[0m\n\u001B[1;32m      3\u001B[0m accept \u001B[38;5;241m=\u001B[39m RecordToRecordTravel\u001B[38;5;241m.\u001B[39mautofit(init\u001B[38;5;241m.\u001B[39mobjective(), \u001B[38;5;241m0.02\u001B[39m, \u001B[38;5;241m0\u001B[39m, \u001B[38;5;241m9000\u001B[39m)\n\u001B[1;32m      4\u001B[0m stop \u001B[38;5;241m=\u001B[39m MaxRuntime(\u001B[38;5;241m20\u001B[39m)\n\u001B[0;32m----> 6\u001B[0m result \u001B[38;5;241m=\u001B[39m \u001B[43malns\u001B[49m\u001B[38;5;241;43m.\u001B[39;49m\u001B[43miterate\u001B[49m\u001B[43m(\u001B[49m\u001B[43minit\u001B[49m\u001B[43m,\u001B[49m\u001B[43m \u001B[49m\u001B[43mselect\u001B[49m\u001B[43m,\u001B[49m\u001B[43m \u001B[49m\u001B[43maccept\u001B[49m\u001B[43m,\u001B[49m\u001B[43m \u001B[49m\u001B[43mstop\u001B[49m\u001B[43m)\u001B[49m\n",
      "File \u001B[0;32m~/thesis/ALNS/alns/ALNS.py:200\u001B[0m, in \u001B[0;36mALNS.iterate\u001B[0;34m(self, initial_solution, op_select, accept, stop, **kwargs)\u001B[0m\n\u001B[1;32m    197\u001B[0m stats\u001B[38;5;241m.\u001B[39mcollect_objective(init_obj)\n\u001B[1;32m    198\u001B[0m stats\u001B[38;5;241m.\u001B[39mcollect_runtime(time\u001B[38;5;241m.\u001B[39mperf_counter())\n\u001B[0;32m--> 200\u001B[0m \u001B[38;5;28;01mwhile\u001B[39;00m \u001B[38;5;129;01mnot\u001B[39;00m \u001B[43mstop\u001B[49m(\u001B[38;5;28mself\u001B[39m\u001B[38;5;241m.\u001B[39m_rnd_state, best, curr):\n\u001B[1;32m    201\u001B[0m     d_idx, r_idx \u001B[38;5;241m=\u001B[39m op_select(\u001B[38;5;28mself\u001B[39m\u001B[38;5;241m.\u001B[39m_rnd_state, best, curr)\n\u001B[1;32m    203\u001B[0m     d_name, d_operator \u001B[38;5;241m=\u001B[39m \u001B[38;5;28mself\u001B[39m\u001B[38;5;241m.\u001B[39mdestroy_operators[d_idx]\n",
      "File \u001B[0;32m~/thesis/ALNS/alns/ALNS.py:200\u001B[0m, in \u001B[0;36mALNS.iterate\u001B[0;34m(self, initial_solution, op_select, accept, stop, **kwargs)\u001B[0m\n\u001B[1;32m    197\u001B[0m stats\u001B[38;5;241m.\u001B[39mcollect_objective(init_obj)\n\u001B[1;32m    198\u001B[0m stats\u001B[38;5;241m.\u001B[39mcollect_runtime(time\u001B[38;5;241m.\u001B[39mperf_counter())\n\u001B[0;32m--> 200\u001B[0m \u001B[38;5;28;01mwhile\u001B[39;00m \u001B[38;5;129;01mnot\u001B[39;00m \u001B[43mstop\u001B[49m(\u001B[38;5;28mself\u001B[39m\u001B[38;5;241m.\u001B[39m_rnd_state, best, curr):\n\u001B[1;32m    201\u001B[0m     d_idx, r_idx \u001B[38;5;241m=\u001B[39m op_select(\u001B[38;5;28mself\u001B[39m\u001B[38;5;241m.\u001B[39m_rnd_state, best, curr)\n\u001B[1;32m    203\u001B[0m     d_name, d_operator \u001B[38;5;241m=\u001B[39m \u001B[38;5;28mself\u001B[39m\u001B[38;5;241m.\u001B[39mdestroy_operators[d_idx]\n",
      "File \u001B[0;32m/snap/pycharm-professional/319/plugins/python/helpers/pydev/_pydevd_bundle/pydevd_frame.py:880\u001B[0m, in \u001B[0;36mPyDBFrame.trace_dispatch\u001B[0;34m(self, frame, event, arg)\u001B[0m\n\u001B[1;32m    877\u001B[0m             stop \u001B[38;5;241m=\u001B[39m \u001B[38;5;28;01mFalse\u001B[39;00m\n\u001B[1;32m    879\u001B[0m \u001B[38;5;28;01mif\u001B[39;00m plugin_stop:\n\u001B[0;32m--> 880\u001B[0m     stopped_on_plugin \u001B[38;5;241m=\u001B[39m \u001B[43mplugin_manager\u001B[49m\u001B[38;5;241;43m.\u001B[39;49m\u001B[43mstop\u001B[49m\u001B[43m(\u001B[49m\u001B[43mmain_debugger\u001B[49m\u001B[43m,\u001B[49m\u001B[43m \u001B[49m\u001B[43mframe\u001B[49m\u001B[43m,\u001B[49m\u001B[43m \u001B[49m\u001B[43mevent\u001B[49m\u001B[43m,\u001B[49m\u001B[43m \u001B[49m\u001B[38;5;28;43mself\u001B[39;49m\u001B[38;5;241;43m.\u001B[39;49m\u001B[43m_args\u001B[49m\u001B[43m,\u001B[49m\u001B[43m \u001B[49m\u001B[43mstop_info\u001B[49m\u001B[43m,\u001B[49m\u001B[43m \u001B[49m\u001B[43marg\u001B[49m\u001B[43m,\u001B[49m\u001B[43m \u001B[49m\u001B[43mstep_cmd\u001B[49m\u001B[43m)\u001B[49m\n\u001B[1;32m    881\u001B[0m \u001B[38;5;28;01melif\u001B[39;00m stop:\n\u001B[1;32m    882\u001B[0m     \u001B[38;5;28;01mif\u001B[39;00m is_line:\n",
      "File \u001B[0;32m/snap/pycharm-professional/319/plugins/python/helpers-pro/jupyter_debug/pydev_jupyter_plugin.py:169\u001B[0m, in \u001B[0;36mstop\u001B[0;34m(plugin, pydb, frame, event, args, stop_info, arg, step_cmd)\u001B[0m\n\u001B[1;32m    167\u001B[0m     frame \u001B[38;5;241m=\u001B[39m suspend_jupyter(main_debugger, thread, frame, step_cmd)\n\u001B[1;32m    168\u001B[0m     \u001B[38;5;28;01mif\u001B[39;00m frame:\n\u001B[0;32m--> 169\u001B[0m         \u001B[43mmain_debugger\u001B[49m\u001B[38;5;241;43m.\u001B[39;49m\u001B[43mdo_wait_suspend\u001B[49m\u001B[43m(\u001B[49m\u001B[43mthread\u001B[49m\u001B[43m,\u001B[49m\u001B[43m \u001B[49m\u001B[43mframe\u001B[49m\u001B[43m,\u001B[49m\u001B[43m \u001B[49m\u001B[43mevent\u001B[49m\u001B[43m,\u001B[49m\u001B[43m \u001B[49m\u001B[43marg\u001B[49m\u001B[43m)\u001B[49m\n\u001B[1;32m    170\u001B[0m         \u001B[38;5;28;01mreturn\u001B[39;00m \u001B[38;5;28;01mTrue\u001B[39;00m\n\u001B[1;32m    171\u001B[0m \u001B[38;5;28;01mreturn\u001B[39;00m \u001B[38;5;28;01mFalse\u001B[39;00m\n",
      "File \u001B[0;32m/snap/pycharm-professional/319/plugins/python/helpers/pydev/pydevd.py:1160\u001B[0m, in \u001B[0;36mPyDB.do_wait_suspend\u001B[0;34m(self, thread, frame, event, arg, send_suspend_message, is_unhandled_exception)\u001B[0m\n\u001B[1;32m   1157\u001B[0m         from_this_thread\u001B[38;5;241m.\u001B[39mappend(frame_id)\n\u001B[1;32m   1159\u001B[0m \u001B[38;5;28;01mwith\u001B[39;00m \u001B[38;5;28mself\u001B[39m\u001B[38;5;241m.\u001B[39m_threads_suspended_single_notification\u001B[38;5;241m.\u001B[39mnotify_thread_suspended(thread_id, stop_reason):\n\u001B[0;32m-> 1160\u001B[0m     \u001B[38;5;28;43mself\u001B[39;49m\u001B[38;5;241;43m.\u001B[39;49m\u001B[43m_do_wait_suspend\u001B[49m\u001B[43m(\u001B[49m\u001B[43mthread\u001B[49m\u001B[43m,\u001B[49m\u001B[43m \u001B[49m\u001B[43mframe\u001B[49m\u001B[43m,\u001B[49m\u001B[43m \u001B[49m\u001B[43mevent\u001B[49m\u001B[43m,\u001B[49m\u001B[43m \u001B[49m\u001B[43marg\u001B[49m\u001B[43m,\u001B[49m\u001B[43m \u001B[49m\u001B[43msuspend_type\u001B[49m\u001B[43m,\u001B[49m\u001B[43m \u001B[49m\u001B[43mfrom_this_thread\u001B[49m\u001B[43m)\u001B[49m\n",
      "File \u001B[0;32m/snap/pycharm-professional/319/plugins/python/helpers/pydev/pydevd.py:1175\u001B[0m, in \u001B[0;36mPyDB._do_wait_suspend\u001B[0;34m(self, thread, frame, event, arg, suspend_type, from_this_thread)\u001B[0m\n\u001B[1;32m   1172\u001B[0m             \u001B[38;5;28mself\u001B[39m\u001B[38;5;241m.\u001B[39m_call_mpl_hook()\n\u001B[1;32m   1174\u001B[0m         \u001B[38;5;28mself\u001B[39m\u001B[38;5;241m.\u001B[39mprocess_internal_commands()\n\u001B[0;32m-> 1175\u001B[0m         \u001B[43mtime\u001B[49m\u001B[38;5;241;43m.\u001B[39;49m\u001B[43msleep\u001B[49m\u001B[43m(\u001B[49m\u001B[38;5;241;43m0.01\u001B[39;49m\u001B[43m)\u001B[49m\n\u001B[1;32m   1177\u001B[0m \u001B[38;5;28mself\u001B[39m\u001B[38;5;241m.\u001B[39mcancel_async_evaluation(get_current_thread_id(thread), \u001B[38;5;28mstr\u001B[39m(\u001B[38;5;28mid\u001B[39m(frame)))\n\u001B[1;32m   1179\u001B[0m \u001B[38;5;66;03m# process any stepping instructions\u001B[39;00m\n",
      "\u001B[0;31mKeyboardInterrupt\u001B[0m: "
     ]
    }
   ],
   "source": [
    "init = nearest_neighbor()\n",
    "select = RouletteWheel([25, 5, 1, 0], 0.8, 1, 1)\n",
    "accept = RecordToRecordTravel.autofit(init.objective(), 0.02, 0, 9000)\n",
    "stop = MaxRuntime(20)\n",
    "\n",
    "result = alns.iterate(init, select, accept, stop)"
   ]
  },
  {
   "cell_type": "code",
   "execution_count": null,
   "id": "d06ff996",
   "metadata": {
    "colab": {
     "base_uri": "https://localhost:8080/",
     "height": 674
    },
    "id": "d06ff996",
    "outputId": "019c9c13-f487-4c67-adc7-597c3fbdbe7c"
   },
   "outputs": [],
   "source": [
    "solution = result.best_state\n",
    "objective = solution.objective()\n",
    "# pct_diff = 100 * (objective - bks.cost) / bks.cost\n",
    "\n",
    "print(f\"Best heuristic objective is {objective}.\")\n",
    "# print(f\"This is {pct_diff:.1f}% worse than the optimal solution, which is {bks.cost}.\")"
   ]
  },
  {
   "cell_type": "code",
   "execution_count": null,
   "id": "f309ec78-2dfa-4d5e-9d9d-7355357ed382",
   "metadata": {},
   "outputs": [],
   "source": [
    "_, ax = plt.subplots(figsize=(12, 6))\n",
    "result.plot_objectives(ax=ax)"
   ]
  },
  {
   "cell_type": "markdown",
   "id": "cfe7b5a8-983f-4dce-b538-fd846c0520f9",
   "metadata": {},
   "source": [
    "Let's have a look at the solution:"
   ]
  },
  {
   "cell_type": "code",
   "execution_count": null,
   "id": "97a55721-4627-48bc-bddd-3eee492e28f7",
   "metadata": {},
   "outputs": [],
   "source": [
    "plot_solution(solution, 'Simple ALNS')"
   ]
  },
  {
   "cell_type": "markdown",
   "id": "P8O54LTGjjBu",
   "metadata": {
    "id": "P8O54LTGjjBu"
   },
   "source": [
    "## Slack-induced substring removal\n",
    "The simple destroy and repair operator from above work fine, but there are better destroy and repair operators for CVRP. One example is the *Slack Induction by Substring Removal (SISR)* method proposed by [Christiaens and Vanden Berghe (2020)](https://pubsonline.informs.org/doi/abs/10.1287/trsc.2019.0914?casa_token=lPUXU1Ax8PIAAAAA:yTE9Pu6L9QGPRu_vt-ZMHF0AZvL9gV0fNS4QAUTOJboQcgTVyOR9_RTbm9rZcImyKI4GUW9pLv1j). SISR obtains state-of-the-art results using a destroy operator that, instead of removing random customers, removes partial routes (called *strings*) that are all located near each other. Moreover, a blinking feature is added to the greedy repair operator, where certain insertion checks are skipped. For more details, we refer to the paper.\n",
    "\n",
    "In the following, we will implement a simplified version of the string removal operator and replace the random destroy operator."
   ]
  },
  {
   "cell_type": "code",
   "execution_count": null,
   "id": "59de74b2-7dbb-4893-ba1a-57f895685d69",
   "metadata": {
    "id": "WlBmF77PIDGy"
   },
   "outputs": [],
   "source": [
    "MAX_STRING_REMOVALS = 2\n",
    "MAX_STRING_SIZE = 12\n",
    "\n",
    "def string_removal(state, rnd_state):\n",
    "    \"\"\"\n",
    "    Remove partial routes around a randomly chosen customer.\n",
    "    \"\"\"\n",
    "    destroyed = state.copy()\n",
    "\n",
    "    avg_route_size = int(np.mean([len(route) for route in state.routes]))\n",
    "    max_string_size = max(MAX_STRING_SIZE, avg_route_size)\n",
    "    max_string_removals = min(len(state.routes), MAX_STRING_REMOVALS)\n",
    "\n",
    "    destroyed_routes = []\n",
    "    center = rnd_state.randint(1, data.dimension)\n",
    "\n",
    "    for customer in neighbors(center):\n",
    "        if len(destroyed_routes) >= max_string_removals:\n",
    "            break\n",
    "\n",
    "        if customer in destroyed.unassigned:\n",
    "            continue\n",
    "\n",
    "        route = destroyed.find_route(customer)\n",
    "        if route in destroyed_routes:\n",
    "            continue\n",
    "\n",
    "        customers = remove_string(route, customer, max_string_size, rnd_state)\n",
    "        destroyed.unassigned.extend(customers)\n",
    "        destroyed_routes.append(route)\n",
    "\n",
    "    return destroyed\n",
    "\n",
    "\n",
    "def remove_string(route, cust, max_string_size, rnd_state):\n",
    "    \"\"\"\n",
    "    Remove a string that constains the passed-in customer.\n",
    "    \"\"\"\n",
    "    # Find consecutive indices to remove that contain the customer\n",
    "    size = rnd_state.randint(1, min(len(route), max_string_size) + 1)\n",
    "    start = route.index(cust) - rnd_state.randint(size)\n",
    "    idcs = [idx % len(route) for idx in range(start, start + size)]\n",
    "\n",
    "    # Remove indices in descending order\n",
    "    removed_customers = []\n",
    "    for idx in sorted(idcs, reverse=True):\n",
    "        removed_customers.append(route.pop(idx))\n",
    "\n",
    "    return removed_customers"
   ]
  },
  {
   "cell_type": "code",
   "execution_count": null,
   "id": "SeJWYINg20Fn",
   "metadata": {
    "id": "SeJWYINg20Fn"
   },
   "outputs": [],
   "source": [
    "alns = ALNS(rnd.RandomState(SEED))\n",
    "\n",
    "alns.add_destroy_operator(string_removal)\n",
    "\n",
    "alns.add_repair_operator(greedy_repair)"
   ]
  },
  {
   "cell_type": "code",
   "execution_count": null,
   "id": "Rx2-Q0V-28Lx",
   "metadata": {
    "id": "Rx2-Q0V-28Lx"
   },
   "outputs": [],
   "source": [
    "init = nearest_neighbor()\n",
    "select = RouletteWheel([25, 5, 1, 0], 0.8, 1, 1)\n",
    "accept = RecordToRecordTravel.autofit(init.objective(), 0.02, 0, 6000)\n",
    "stop = MaxRuntime(20)\n",
    "\n",
    "result = alns.iterate(init, select, accept, stop)"
   ]
  },
  {
   "cell_type": "code",
   "execution_count": null,
   "id": "V8oOY04m3mf3",
   "metadata": {
    "colab": {
     "base_uri": "https://localhost:8080/",
     "height": 404
    },
    "id": "V8oOY04m3mf3",
    "outputId": "9d222fce-d1c1-44f2-dbc3-b3f6a4636532"
   },
   "outputs": [],
   "source": [
    "_, ax = plt.subplots(figsize=(12, 6))\n",
    "result.plot_objectives(ax=ax)"
   ]
  },
  {
   "cell_type": "code",
   "execution_count": null,
   "id": "XLrbh5loClBZ",
   "metadata": {
    "colab": {
     "base_uri": "https://localhost:8080/",
     "height": 674
    },
    "id": "XLrbh5loClBZ",
    "outputId": "1e3b5ca8-49d1-4ad6-fcc3-449958839953"
   },
   "outputs": [],
   "source": [
    "solution = result.best_state\n",
    "objective = solution.objective()\n",
    "# pct_diff = 100 * (objective - bks.cost) / bks.cost\n",
    "\n",
    "print(f\"Best heuristic objective is {objective}.\")\n",
    "# print(f\"This is {pct_diff:.1f}% worse than the optimal solution, which is {bks.cost}.\")\n",
    "plot_solution(solution, 'String removals')"
   ]
  },
  {
   "cell_type": "markdown",
   "id": "d541a8e7-461a-40ab-9d85-2c94712c1c29",
   "metadata": {},
   "source": [
    "## Conclusions"
   ]
  },
  {
   "cell_type": "markdown",
   "id": "7424ca3f-b4e7-459d-a307-be2d26426cdc",
   "metadata": {},
   "source": [
    "In this notebook we implemented two heuristics for the CVRP, using the ALNS meta-heuristic framework. The first heuristic used a random customer destroy operator and we obtained a solution which is 6.8% worse than the best known solution. The second heuristic used a destroy operator which removes strings arround a randomly selected customer and we obtained a solution that is only 3% worse than the best known solution. \n",
    "\n",
    "This example shows that by constructing problem-specific operators, one can create even more powerful ALNS heuristics."
   ]
  },
  {
   "cell_type": "code",
   "execution_count": null,
   "id": "a1cba864",
   "metadata": {},
   "outputs": [],
   "source": []
  }
 ],
 "metadata": {
  "colab": {
   "collapsed_sections": [
    "68965045-48f2-41ac-ae4e-394ae450c5de"
   ],
   "provenance": []
  },
  "kernelspec": {
   "display_name": "venv",
   "language": "python",
   "name": "python3"
  },
  "language_info": {
   "codemirror_mode": {
    "name": "ipython",
    "version": 3
   },
   "file_extension": ".py",
   "mimetype": "text/x-python",
   "name": "python",
   "nbconvert_exporter": "python",
   "pygments_lexer": "ipython3",
   "version": "3.8.10"
  },
  "vscode": {
   "interpreter": {
    "hash": "ec16cf520de38a257e2818f214cfafa3a6604579aa60524f6c4f538b11d25f2d"
   }
  }
 },
 "nbformat": 4,
 "nbformat_minor": 5
}
